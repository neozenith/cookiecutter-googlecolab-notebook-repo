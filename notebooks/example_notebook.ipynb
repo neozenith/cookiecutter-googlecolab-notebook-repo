{
 "cells": [
  {
   "cell_type": "markdown",
   "id": "918a8550-bbd1-438d-8d2c-96a357a45994",
   "metadata": {},
   "source": [
    "# Example Notebook\n",
    "\n",
    "## Install dependencies"
   ]
  },
  {
   "cell_type": "code",
   "execution_count": 1,
   "id": "faa9ded9-1d95-4769-996f-62a23aeb2b8e",
   "metadata": {},
   "outputs": [],
   "source": [
    "!pip install -U pip -qq"
   ]
  },
  {
   "cell_type": "markdown",
   "id": "ad7107d7",
   "metadata": {},
   "source": [
    "## Network Analysis Dependencies"
   ]
  },
  {
   "cell_type": "code",
   "execution_count": 2,
   "id": "a944fcd9-331e-46b5-a1f3-63cd4f206980",
   "metadata": {},
   "outputs": [],
   "source": [
    "!pip install networkx ipycytoscape -qq"
   ]
  },
  {
   "cell_type": "code",
   "execution_count": 3,
   "id": "0f53e00a-147f-491c-8601-fd1f36258412",
   "metadata": {},
   "outputs": [],
   "source": [
    "# Need to use `master` instead of PyPI version since 'fcose' algorithm only available there and not published yet.\n",
    "# pip install https://github.com/plotly/dash-cytoscape/archive/master.zip"
   ]
  },
  {
   "cell_type": "markdown",
   "id": "627a9cc4",
   "metadata": {},
   "source": [
    "## Google Sheets Dependencies"
   ]
  },
  {
   "cell_type": "code",
   "execution_count": null,
   "id": "5720dc0e",
   "metadata": {},
   "outputs": [],
   "source": [
    "!pip install -U -qq gspread plotly"
   ]
  },
  {
   "cell_type": "code",
   "execution_count": null,
   "id": "3254f654-de32-4cc0-bf5b-db193b7399c4",
   "metadata": {},
   "outputs": [],
   "source": [
    "# from google.colab import auth\n",
    "# auth.authenticate_user()\n",
    "\n",
    "# import gspread\n",
    "# import pandas as pd\n",
    "# from google.auth import default\n",
    "# creds, _ = default()\n",
    "\n",
    "# gc = gspread.authorize(creds)"
   ]
  },
  {
   "cell_type": "markdown",
   "id": "2d2edba3-19bf-4fe8-a8e3-06fc18aed66a",
   "metadata": {},
   "source": [
    "## Google Colab Specific Code"
   ]
  },
  {
   "cell_type": "code",
   "execution_count": 4,
   "id": "3e080c63-da52-47da-a7ef-b393c68bf87f",
   "metadata": {},
   "outputs": [],
   "source": [
    "try:\n",
    "    from google.colab import output\n",
    "\n",
    "    output.enable_custom_widget_manager()\n",
    "\n",
    "    # Mount Google Drive as though local filepaths\n",
    "    from google.colab import drive\n",
    "\n",
    "    drive.mount(\"/content/drive\")\n",
    "except ModuleNotFoundError:\n",
    "    pass"
   ]
  }
 ],
 "metadata": {
  "kernelspec": {
   "display_name": "Python 3 (ipykernel)",
   "language": "python",
   "name": "python3"
  },
  "language_info": {
   "codemirror_mode": {
    "name": "ipython",
    "version": 3
   },
   "file_extension": ".py",
   "mimetype": "text/x-python",
   "name": "python",
   "nbconvert_exporter": "python",
   "pygments_lexer": "ipython3",
   "version": "3.10.13"
  }
 },
 "nbformat": 4,
 "nbformat_minor": 5
}
